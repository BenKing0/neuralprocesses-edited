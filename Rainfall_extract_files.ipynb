{
 "cells": [
  {
   "cell_type": "code",
   "execution_count": 19,
   "metadata": {},
   "outputs": [
    {
     "name": "stderr",
     "output_type": "stream",
     "text": [
      "100%|██████████| 365/365 [01:57<00:00,  3.12it/s]\n"
     ]
    }
   ],
   "source": [
    "import xarray\n",
    "from datetime import datetime, timedelta\n",
    "from tqdm import trange\n",
    "import numpy as np\n",
    "import pandas as pd\n",
    "\n",
    "def _to_int(date):\n",
    "    return 10000*date.year + 100*date.month + date.day\n",
    "\n",
    "def _mask(array, xbounds, ybounds):\n",
    "    _array = array[0, :, :]\n",
    "    masked = _array.where(\n",
    "        np.logical_and(_array.X >= xbounds[0], _array.X <= xbounds[1]).astype(int) + \n",
    "        np.logical_and(_array.Y >= ybounds[0], _array.Y <= ybounds[1]).astype(int) == 2, \n",
    "        drop=True)\n",
    "    return masked\n",
    "\n",
    "def _aggregate(array, n=2, type='mean'):\n",
    "    assert array.shape[0] % n == 0 and array.shape[1] % n == 0, f\"Array must be divisible by {n} in order to aggregate with no left-overs.\"\n",
    "    agg = np.zeros((array.shape[0] // n, array.shape[1] // n))\n",
    "    for i in range(array.shape[0] // n):\n",
    "        for j in range(array.shape[1] // n):\n",
    "            if type == 'mean':\n",
    "                agg[i, j] = array[n*(i):n*(i+1), n*(j):n*(j+1)].mean()\n",
    "            elif type == 'max':\n",
    "                agg[i, j] = array[n*(i):n*(i+1), n*(j):n*(j+1)].max()\n",
    "    return xarray.DataArray(agg, dims=['X', 'Y'], coords={'X': np.linspace(0, array.shape[0]-n, agg.shape[0]), 'Y': np.linspace(0, array.shape[1]-n, agg.shape[1])})\n",
    "\n",
    "# Points sampled every 1000m. Select 60 x and 60 y per time slice then aggregate grids of 4 (via mean) to make 30 x 30 y.\n",
    "# Make sure that bounds chosen are central as data availability in non-central regions is sparse (included sea and non-Nordic domiciled regions?)\n",
    "xbounds = [5e6, 5.06e6]\n",
    "ybounds = [4.41e6, 4.47e6]\n",
    "aggtype = 'max'\n",
    "\n",
    "start = datetime(2018, 1, 1)\n",
    "for i in trange(365):\n",
    "    day = start + timedelta(days=i)\n",
    "    ds = xarray.open_dataset(f'C:/Users/bened/Documents/University/Cambridge/Thesis/Data/NordicDailyPrecip/NGCD_RR_type1_version_22.03_{str(_to_int(day))}.nc')\n",
    "    precipitation = _mask(ds['RR'], xbounds, ybounds) # (1, X, Y) dimension --> (reduced_X, reduced_Y) dimension\n",
    "    aggregated = _aggregate(precipitation, n=2, type=aggtype)\n",
    "    df = aggregated.to_dataframe('RR')\n",
    "    df['Binary'] = np.where(df['RR'].to_numpy() != 0, 1, 0)\n",
    "    # NOTE: use of aggregation means this saves coordinates in distances from 0 (where 0 is minimum of each coordinate axis)\n",
    "    df.to_csv(\"C:/Users/bened/Documents/University/Cambridge/Thesis/Data/NordicDailyPrecip/Agg({1})_Reduced_{0}.csv\".format(str(_to_int(day)), aggtype))"
   ]
  },
  {
   "cell_type": "code",
   "execution_count": null,
   "metadata": {},
   "outputs": [],
   "source": []
  }
 ],
 "metadata": {
  "kernelspec": {
   "display_name": "Python 3.8.3 ('venv2': venv)",
   "language": "python",
   "name": "python3"
  },
  "language_info": {
   "codemirror_mode": {
    "name": "ipython",
    "version": 3
   },
   "file_extension": ".py",
   "mimetype": "text/x-python",
   "name": "python",
   "nbconvert_exporter": "python",
   "pygments_lexer": "ipython3",
   "version": "3.8.3"
  },
  "orig_nbformat": 4,
  "vscode": {
   "interpreter": {
    "hash": "c11e4eb3a9ce67cf0c90e472260a93f75c22bc1788fa19fa5b532f5a02b1b0dc"
   }
  }
 },
 "nbformat": 4,
 "nbformat_minor": 2
}
